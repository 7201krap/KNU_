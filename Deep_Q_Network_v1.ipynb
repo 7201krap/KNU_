{
  "nbformat": 4,
  "nbformat_minor": 0,
  "metadata": {
    "colab": {
      "name": "Deep Q-Network v1",
      "provenance": [],
      "collapsed_sections": [],
      "authorship_tag": "ABX9TyNKM7iNdpA6LJUYknURQktm",
      "include_colab_link": true
    },
    "kernelspec": {
      "name": "python3",
      "display_name": "Python 3"
    },
    "language_info": {
      "name": "python"
    }
  },
  "cells": [
    {
      "cell_type": "markdown",
      "metadata": {
        "id": "view-in-github",
        "colab_type": "text"
      },
      "source": [
        "<a href=\"https://colab.research.google.com/github/7201krap/KNU_RA/blob/main/Deep_Q_Network_v1.ipynb\" target=\"_parent\"><img src=\"https://colab.research.google.com/assets/colab-badge.svg\" alt=\"Open In Colab\"/></a>"
      ]
    },
    {
      "cell_type": "code",
      "execution_count": null,
      "metadata": {
        "id": "WG254OAN5yC1"
      },
      "outputs": [],
      "source": [
        "# Playing Atari with Deep Reinforcement Learning\n",
        "\n",
        "from torch import nn\n",
        "import torch\n",
        "import gym\n",
        "from collections import deque\n",
        "import itertools\n",
        "import numpy as np\n",
        "import random"
      ]
    },
    {
      "cell_type": "code",
      "source": [
        "GAMMA = 0.99                                               \n",
        "EPSILON_START = 1.0\n",
        "EPSILON_END = 0.02\n",
        "EPSILON_DECAY = 10000"
      ],
      "metadata": {
        "id": "DlU8xFGD6AEF"
      },
      "execution_count": null,
      "outputs": []
    },
    {
      "cell_type": "code",
      "source": [
        "class Network(nn.Module):\n",
        "    def __init__(self, env):\n",
        "        super().__init__()\n",
        "\n",
        "        in_features = int(np.prod(env.observation_space.shape))\n",
        "\n",
        "        self.net = nn.Sequential(\n",
        "            nn.Linear(in_features, 64),\n",
        "            nn.Tanh(),\n",
        "            nn.Linear(64, env.action_space.n)\n",
        "        )\n",
        "\n",
        "    def forward(self, x):\n",
        "        return self.net(x)\n",
        "\n",
        "    def act(self, state):\n",
        "\n",
        "        state_t = torch.as_tensor(state, dtype=torch.float32)\n",
        "\n",
        "        q_values = self.forward(state_t.unsqueeze(0))                           # 'q_values' outputs two values (left or right)\n",
        "\n",
        "        max_q_index = torch.argmax(q_values, dim=1)[0]                          # find an index that corresponds to the maximum value  \n",
        "\n",
        "        action = max_q_index.detach().item()                                    # 0 or 1\n",
        "\n",
        "        return action                                                           # 0 or 1"
      ],
      "metadata": {
        "id": "94gM5-9S6AOb"
      },
      "execution_count": null,
      "outputs": []
    },
    {
      "cell_type": "code",
      "source": [
        "env = gym.make('CartPole-v1')\n",
        "episode_reward = 0.0\n",
        "episode = 0 \n",
        "\n",
        "net = Network(env)\n",
        "\n",
        "optimizer = torch.optim.Adam(net.parameters(), lr=1e-1)"
      ],
      "metadata": {
        "id": "t1f6m0XQ6CVU"
      },
      "execution_count": null,
      "outputs": []
    },
    {
      "cell_type": "code",
      "source": [
        "# Main Training Loop\n",
        "\n",
        "state = env.reset()                                                             # state의 예시: [-0.01713841 -0.00705756 -0.04146662 -0.04927411]\n",
        "\n",
        "for step in itertools.count():                                                  # step starts from 0 and increases by 1 until it meets a break condition. This is same as 'While True' loop\n",
        "\n",
        "    epsilon = np.interp(step, [0, EPSILON_DECAY], [EPSILON_START, EPSILON_END]) # epsilon value는 EPSILON_START에서 시작해서 EPSILON_END까지 step이 흘러갈수록 점점 더 감소한다. \n",
        "\n",
        "    random_sample = random.random()\n",
        "\n",
        "    if random_sample <= epsilon:                                                # random_sample의 값이 epsilon보다 작으면, random한 action을 취하고, 그렇지 않다면 online_net에 현재 state를 넣어 가장 좋은 act를 가져온다. \n",
        "        action = env.action_space.sample()\n",
        "    else:\n",
        "        action = net.act(state)\n",
        "\n",
        "    new_state, reward, done, _ = env.step(action)\n",
        "                                 \n",
        "    state = new_state\n",
        "\n",
        "    episode_reward  = episode_reward + reward\n",
        "\n",
        "    if done:                             \n",
        "\n",
        "        print(f\"Episode: {episode} | Reward: {episode_reward}\")\n",
        "\n",
        "        state = env.reset()                                                     \n",
        "        episode_reward = 0.0\n",
        "        episode += 1\n",
        "\n",
        "    # # -------------------------- TEST --------------------------\n",
        "    # # After solved, watch it play\n",
        "    # if len(reward_buffer) == 100:\n",
        "    #     if np.mean(reward_buffer) >= 195:\n",
        "    #         while True:\n",
        "    #             action = online_net.act(state)\n",
        "\n",
        "    #             action, _, done, _ = env.step(action)\n",
        "    #             env.render()\n",
        "    #             if done:\n",
        "    #                 env.reset()\n",
        "    # # -------------------------- TEST --------------------------\n",
        "\n",
        "    state_t     = torch.as_tensor(state, dtype=torch.float32)\n",
        "    action_t    = torch.as_tensor(action, dtype=torch.int64).unsqueeze(-1)\n",
        "    reward_t    = torch.as_tensor(reward, dtype=torch.float32).unsqueeze(-1)\n",
        "    done_t      = torch.as_tensor(done, dtype=torch.float32).unsqueeze(-1)\n",
        "    new_state_t = torch.as_tensor(new_state, dtype=torch.float32)\n",
        "\n",
        "    # Compute Targets\n",
        "    target_q_values = net.forward(new_state_t)\n",
        "    max_target_q_values = target_q_values.max(dim=0, keepdim=True)[0]           \n",
        "    targets = reward_t + GAMMA * (1 - done_t) * max_target_q_values     \n",
        "\n",
        "    # Compute Loss\n",
        "    q_values = net.forward(state_t)                             \n",
        "    action_q_values = torch.gather(input=q_values, dim=0, index=action_t)      \n",
        "\n",
        "    # print(\"targets:\", targets)\n",
        "    # print(\"q_values:\", q_values)\n",
        "    # print(\"actions_q_values\", action_q_values)\n",
        "\n",
        "    loss = nn.functional.smooth_l1_loss(action_q_values, targets)\n",
        "\n",
        "    # Gradient Descent\n",
        "    optimizer.zero_grad()\n",
        "    loss.backward()\n",
        "    optimizer.step()   "
      ],
      "metadata": {
        "id": "NlZsaKb-6CZP"
      },
      "execution_count": null,
      "outputs": []
    },
    {
      "cell_type": "code",
      "source": [
        ""
      ],
      "metadata": {
        "id": "wtbe97UBm8Lo"
      },
      "execution_count": null,
      "outputs": []
    }
  ]
}