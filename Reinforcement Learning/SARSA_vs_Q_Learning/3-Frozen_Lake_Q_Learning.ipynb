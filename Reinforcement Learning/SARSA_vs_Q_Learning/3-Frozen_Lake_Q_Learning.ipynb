{
 "cells": [
  {
   "cell_type": "code",
   "execution_count": 1,
   "id": "d1cf52ef",
   "metadata": {},
   "outputs": [],
   "source": [
    "%config IPCompleter.greedy=True"
   ]
  },
  {
   "cell_type": "code",
   "execution_count": 2,
   "id": "7949486a",
   "metadata": {},
   "outputs": [],
   "source": [
    "import random\n",
    "import gym\n",
    "import numpy as np\n",
    "import time \n",
    "from gym.envs.registration import register\n",
    "from IPython.display import clear_output\n",
    "import matplotlib.pyplot as plt"
   ]
  },
  {
   "cell_type": "code",
   "execution_count": 3,
   "id": "43831bf7",
   "metadata": {},
   "outputs": [],
   "source": [
    "register(\n",
    "        id='FrozenLakeNoSlip-v0',\n",
    "        entry_point='gym.envs.toy_text:FrozenLakeEnv',\n",
    "        kwargs={'map_name' : '4x4', 'is_slippery':False},\n",
    "        max_episode_steps=100,\n",
    "        reward_threshold=0.78, # optimum = .8196\n",
    "        ) \n",
    "\n",
    "# env_name = \"CartPole-v1\"\n",
    "# env_name = \"MountainCar-v0\"\n",
    "# env_name = \"MountainCarContinuous-v0\"\n",
    "# env_name = \"Acrobot-v1\"\n",
    "# env_name = \"Pendulum-v1\"\n",
    "# env_name = \"FrozenLake-v1\"\n",
    "env_name = \"FrozenLakeNoSlip-v0\""
   ]
  },
  {
   "cell_type": "code",
   "execution_count": 4,
   "id": "40cfe09b",
   "metadata": {},
   "outputs": [
    {
     "name": "stdout",
     "output_type": "stream",
     "text": [
      "Observation space -> Discrete(16)\n",
      "Action space -> Discrete(4)\n",
      "Type of action -> <class 'gym.spaces.discrete.Discrete'>\n"
     ]
    }
   ],
   "source": [
    "env = gym.make(env_name)\n",
    "\n",
    "print(\"Observation space ->\", env.observation_space)\n",
    "print(\"Action space ->\", env.action_space)\n",
    "print(\"Type of action ->\", type(env.action_space))"
   ]
  },
  {
   "cell_type": "code",
   "execution_count": 5,
   "id": "19f0501a",
   "metadata": {},
   "outputs": [],
   "source": [
    "class Agent:\n",
    "    '''\n",
    "    1. Model이 discrete한지 continuous한지 판단하고, state_size를 저장한다.\n",
    "    2. discrete일 경우, action_size를 저장. \n",
    "    3. continuous일 경우, action의 boundary와 shape을 저장.\n",
    "    '''\n",
    "    def __init__(self, env):\n",
    "        self.is_discrete = \\\n",
    "            type(env.action_space) == gym.spaces.discrete.Discrete\n",
    "        \n",
    "        # state_size == state의 갯수 \n",
    "        self.state_size = env.observation_space.n\n",
    "        print(\"State size:\", self.state_size)\n",
    "        \n",
    "        if self.is_discrete:\n",
    "            # action_size == action의 갯수 \n",
    "            self.action_size = env.action_space.n\n",
    "            print(\"Environment is Discrete and Action size is\", self.action_size)\n",
    "  \n",
    "        else:\n",
    "            print(\"Environment is Continuous\")\n",
    "            \n",
    "            # action의 boundary와 action의 shape\n",
    "            self.action_low = env.action_space.low \n",
    "            self.action_high = env.action_space.high\n",
    "            self.action_shape = env.action_space.shape\n",
    "            print(\"self.action_low ->\", self.action_low)\n",
    "            print(\"self.action_high ->\", self.action_high)\n",
    "            print(\"self.action_shape ->\", self.action_shape)\n",
    "\n",
    "    def get_action(self, state):\n",
    "        '''\n",
    "        Returns a randomly selected action\n",
    "        '''\n",
    "        if self.is_discrete:\n",
    "            action = random.choice(range(self.action_size))\n",
    "        else:\n",
    "            action = np.random.uniform(self.action_low,\n",
    "                                       self.action_high,\n",
    "                                       self.action_shape)\n",
    "            \n",
    "        return action"
   ]
  },
  {
   "cell_type": "code",
   "execution_count": 6,
   "id": "7e19fc1f",
   "metadata": {},
   "outputs": [],
   "source": [
    "class Q_Agent(Agent):\n",
    "    def __init__(self, env, discount_rate=0.97, learning_rate=0.01):\n",
    "        super().__init__(env)\n",
    "        \n",
    "        self.eps = 1.0\n",
    "        self.discount_rate = discount_rate\n",
    "        self.learning_rate = learning_rate\n",
    "        self.build_model()\n",
    "        \n",
    "        print(\"discount_rate:\", discount_rate)\n",
    "        print(\"learning_rate:\", learning_rate)\n",
    "        \n",
    "    def build_model(self):\n",
    "        self.Q_table = 1e-4*np.random.random([self.state_size, self.action_size])\n",
    "        \n",
    "    def get_action(self, state):\n",
    "        Q_current = self.Q_table[state]\n",
    "        action_greedy = np.argmax(Q_current)\n",
    "        action_random = super().get_action(state)\n",
    "        \n",
    "        # Decaying epsilon algorithm. Decay a chance of having the random action for every episode.\n",
    "        if random.random() < self.eps:\n",
    "            return action_random \n",
    "        else:\n",
    "            return action_greedy\n",
    "    \n",
    "    def train(self, experience):\n",
    "        state, action, reward, next_state, done = experience\n",
    "        \n",
    "        Q_next = self.Q_table[next_state]\n",
    "        \n",
    "        if done:\n",
    "            Q_next = np.zeros([self.action_size])\n",
    "\n",
    "        self.Q_table[state, action] = (1 - self.learning_rate) * self.Q_table[state, action] + \\\n",
    "        self.learning_rate * (reward + self.discount_rate * np.max(Q_next))\n",
    "        \n",
    "        if done:\n",
    "            # decay epsilon. \n",
    "            self.eps = self.eps * 0.99 "
   ]
  },
  {
   "cell_type": "code",
   "execution_count": 7,
   "id": "c409312a",
   "metadata": {},
   "outputs": [
    {
     "name": "stderr",
     "output_type": "stream",
     "text": [
      "IOPub message rate exceeded.\n",
      "The notebook server will temporarily stop sending output\n",
      "to the client in order to avoid crashing it.\n",
      "To change this limit, set the config variable\n",
      "`--NotebookApp.iopub_msg_rate_limit`.\n",
      "\n",
      "Current values:\n",
      "NotebookApp.iopub_msg_rate_limit=1000.0 (msgs/sec)\n",
      "NotebookApp.rate_limit_window=3.0 (secs)\n",
      "\n"
     ]
    }
   ],
   "source": [
    "# Generate an agent that follows Q-Learning algorithm.\n",
    "Q_agent = Q_Agent(env)\n",
    "total_reward = 0\n",
    "total_reward_list = list()\n",
    "episodes = 1000\n",
    "\n",
    "for episode in range(episodes):\n",
    "    \n",
    "    total_reward_list.append(total_reward)\n",
    "    state = env.reset() # reset the environment when the episode terminates\n",
    "    \n",
    "    print(f\"Entering Episode {episode}\")\n",
    "    print(f\"Total Reward is {total_reward}\")\n",
    "#     time.sleep(0.25)\n",
    "    \n",
    "    done = False\n",
    "    \n",
    "    while not done:\n",
    "\n",
    "        action = Q_agent.get_action(state)\n",
    "        next_state, reward, done, info = env.step(action)\n",
    "        \n",
    "        # save the agent's experience as a tuple\n",
    "        experience = (state, action, reward, next_state, done)\n",
    "        print(f\"Action {action} led the agent to move from state {state} to state {next_state}. Reward={reward}. Done? {done}\")\n",
    "\n",
    "        # train my Q_agent\n",
    "        Q_agent.train(experience)\n",
    "        \n",
    "        # The agent moves to the next state\n",
    "        state = next_state\n",
    "        \n",
    "        # accumulate reward\n",
    "        total_reward = total_reward + reward\n",
    "        \n",
    "        print(f\"Episode: {episode}, Total reward: {total_reward}, eps: {Q_agent.eps}\")\n",
    "        print(\"---------------------------------------------------------------------\")\n",
    "        print(f\"<Q table>\\n\", Q_agent.Q_table)\n",
    "        print(\"---------------------------------------------------------------------\")\n",
    "        \n",
    "        env.render()\n",
    "        clear_output(wait=True)\n",
    "#         time.sleep(0.25)"
   ]
  },
  {
   "cell_type": "code",
   "execution_count": 8,
   "id": "47975cfe",
   "metadata": {},
   "outputs": [],
   "source": [
    "def analysis_tool(episode_length, total_reward):\n",
    "    fig, ax = plt.subplots()\n",
    "    x = np.linspace(0, episode_length, num=episode_length)\n",
    "    y = total_reward \n",
    "    \n",
    "    ax.plot(x, y)\n",
    "    ax.set_xlabel('Episode')\n",
    "    ax.set_ylabel('Total Reward')\n",
    "    \n",
    "    ax.set_ylim(0, episode_length)\n",
    "    ax.set_title('Accumulated Total Rewards')\n",
    "    ax.grid()"
   ]
  },
  {
   "cell_type": "code",
   "execution_count": 9,
   "id": "e7734f12",
   "metadata": {},
   "outputs": [
    {
     "data": {
      "image/png": "[encoded data removed]",
      "text/plain": [
       "<Figure size 432x288 with 1 Axes>"
      ]
     },
     "metadata": {
      "needs_background": "light"
     },
     "output_type": "display_data"
    }
   ],
   "source": [
    "analysis_tool(episodes, total_reward_list)"
   ]
  },
  {
   "cell_type": "code",
   "execution_count": null,
   "id": "948b648d",
   "metadata": {},
   "outputs": [],
   "source": []
  },
  {
   "cell_type": "code",
   "execution_count": null,
   "id": "df32edee",
   "metadata": {},
   "outputs": [],
   "source": []
  },
  {
   "cell_type": "code",
   "execution_count": null,
   "id": "4fb9afe9",
   "metadata": {},
   "outputs": [],
   "source": []
  },
  {
   "cell_type": "code",
   "execution_count": null,
   "id": "98a44052",
   "metadata": {},
   "outputs": [],
   "source": []
  },
  {
   "cell_type": "code",
   "execution_count": null,
   "id": "8ca08579",
   "metadata": {},
   "outputs": [],
   "source": []
  },
  {
   "cell_type": "code",
   "execution_count": null,
   "id": "70103b12",
   "metadata": {},
   "outputs": [],
   "source": []
  },
  {
   "cell_type": "code",
   "execution_count": null,
   "id": "e73548b1",
   "metadata": {},
   "outputs": [],
   "source": []
  }
 ],
 "metadata": {
  "kernelspec": {
   "display_name": "Python 3 (ipykernel)",
   "language": "python",
   "name": "python3"
  },
  "language_info": {
   "codemirror_mode": {
    "name": "ipython",
    "version": 3
   },
   "file_extension": ".py",
   "mimetype": "text/x-python",
   "name": "python",
   "nbconvert_exporter": "python",
   "pygments_lexer": "ipython3",
   "version": "3.9.7"
  }
 },
 "nbformat": 4,
 "nbformat_minor": 5
}
