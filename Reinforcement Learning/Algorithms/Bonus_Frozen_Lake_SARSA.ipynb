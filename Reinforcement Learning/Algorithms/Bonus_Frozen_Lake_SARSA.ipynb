{
 "cells": [
  {
   "cell_type": "code",
   "execution_count": 1,
   "id": "d1cf52ef",
   "metadata": {},
   "outputs": [],
   "source": [
    "%config IPCompleter.greedy=True"
   ]
  },
  {
   "cell_type": "code",
   "execution_count": 2,
   "id": "7949486a",
   "metadata": {},
   "outputs": [],
   "source": [
    "import random\n",
    "import gym\n",
    "import numpy as np\n",
    "import time \n",
    "from gym.envs.registration import register\n",
    "from IPython.display import clear_output\n",
    "import matplotlib.pyplot as plt"
   ]
  },
  {
   "cell_type": "code",
   "execution_count": 3,
   "id": "43831bf7",
   "metadata": {},
   "outputs": [],
   "source": [
    "register(\n",
    "        id='FrozenLakeNoSlip-v0',\n",
    "        entry_point='gym.envs.toy_text:FrozenLakeEnv',\n",
    "        kwargs={'map_name' : '4x4', 'is_slippery':False},\n",
    "        max_episode_steps=100,\n",
    "        reward_threshold=0.78, # optimum = .8196\n",
    "        ) \n",
    "\n",
    "# env_name = \"CartPole-v1\"\n",
    "# env_name = \"MountainCar-v0\"\n",
    "# env_name = \"MountainCarContinuous-v0\"\n",
    "# env_name = \"Acrobot-v1\"\n",
    "# env_name = \"Pendulum-v1\"\n",
    "# env_name = \"FrozenLake-v1\"\n",
    "env_name = \"FrozenLakeNoSlip-v0\""
   ]
  },
  {
   "cell_type": "code",
   "execution_count": 4,
   "id": "40cfe09b",
   "metadata": {},
   "outputs": [
    {
     "name": "stdout",
     "output_type": "stream",
     "text": [
      "Observation space -> Discrete(16)\n",
      "Action space -> Discrete(4)\n",
      "Type of action -> <class 'gym.spaces.discrete.Discrete'>\n"
     ]
    }
   ],
   "source": [
    "env = gym.make(env_name)\n",
    "\n",
    "print(\"Observation space ->\", env.observation_space)\n",
    "print(\"Action space ->\", env.action_space)\n",
    "print(\"Type of action ->\", type(env.action_space))"
   ]
  },
  {
   "cell_type": "code",
   "execution_count": 5,
   "id": "19f0501a",
   "metadata": {},
   "outputs": [],
   "source": [
    "class Agent:\n",
    "    '''\n",
    "    1. Model이 discrete한지 continuous한지 판단하고, state_size를 저장한다.\n",
    "    2. discrete일 경우, action_size를 저장. \n",
    "    3. continuous일 경우, action의 boundary와 shape을 저장.\n",
    "    '''\n",
    "    def __init__(self, env):\n",
    "        self.is_discrete = \\\n",
    "            type(env.action_space) == gym.spaces.discrete.Discrete\n",
    "        \n",
    "        # state_size == state의 갯수 \n",
    "        self.state_size = env.observation_space.n\n",
    "        print(\"State size:\", self.state_size)\n",
    "        \n",
    "        if self.is_discrete:\n",
    "            # action_size == action의 갯수 \n",
    "            self.action_size = env.action_space.n\n",
    "            print(\"Environment is Discrete and Action size is\", self.action_size)\n",
    "  \n",
    "        else:\n",
    "            print(\"Environment is Continuous\")\n",
    "            \n",
    "            # action의 boundary와 action의 shape\n",
    "            self.action_low = env.action_space.low \n",
    "            self.action_high = env.action_space.high\n",
    "            self.action_shape = env.action_space.shape\n",
    "            print(\"self.action_low ->\", self.action_low)\n",
    "            print(\"self.action_high ->\", self.action_high)\n",
    "            print(\"self.action_shape ->\", self.action_shape)\n",
    "\n",
    "    def get_action(self, state):\n",
    "        '''\n",
    "        Returns a randomly selected action\n",
    "        '''\n",
    "        if self.is_discrete:\n",
    "            action = random.choice(range(self.action_size))\n",
    "        else:\n",
    "            action = np.random.uniform(self.action_low,\n",
    "                                       self.action_high,\n",
    "                                       self.action_shape)\n",
    "            \n",
    "        return action"
   ]
  },
  {
   "cell_type": "code",
   "execution_count": 6,
   "id": "7e19fc1f",
   "metadata": {},
   "outputs": [],
   "source": [
    "class SARSA_Agent(Agent):\n",
    "    def __init__(self, env, discount_rate=0.97, learning_rate=0.01):\n",
    "        super().__init__(env)\n",
    "        \n",
    "        self.eps = 1.0\n",
    "        self.discount_rate = discount_rate\n",
    "        self.learning_rate = learning_rate\n",
    "        self.build_model()\n",
    "        \n",
    "        print(\"discount_rate:\", discount_rate)\n",
    "        print(\"learning_rate:\", learning_rate)\n",
    "        \n",
    "    def build_model(self):\n",
    "        self.SARSA_table = 1e-4*np.random.random([self.state_size, self.action_size])\n",
    "        \n",
    "    def get_action(self, state):\n",
    "        SARSA_current = self.SARSA_table[state]\n",
    "        action_greedy = np.argmax(SARSA_current)\n",
    "        action_random = super().get_action(state)\n",
    "        \n",
    "        # Decaying epsilon algorithm. Decay a chance of having the random action for every episode.\n",
    "        if random.random() < self.eps:\n",
    "            return action_random \n",
    "        else:\n",
    "            return action_greedy\n",
    "    \n",
    "    def train(self, experience):\n",
    "        state, action, reward, next_state, next_action, done = experience\n",
    "        \n",
    "        SARSA_next = self.SARSA_table[next_state]\n",
    "        \n",
    "        if done:\n",
    "            SARSA_next = np.zeros([self.action_size])\n",
    "\n",
    "        self.SARSA_table[state, action] = (1 - self.learning_rate) * self.SARSA_table[state, action] + \\\n",
    "        self.learning_rate * (reward + self.discount_rate * self.SARSA_table[next_state, next_action])\n",
    "        \n",
    "        if done:\n",
    "            # decay epsilon. \n",
    "            self.eps = self.eps * 0.99 "
   ]
  },
  {
   "cell_type": "code",
   "execution_count": 7,
   "id": "c409312a",
   "metadata": {},
   "outputs": [
    {
     "name": "stdout",
     "output_type": "stream",
     "text": [
      "S:1 -> A:1 -> R:0.0 -> S:5 -> A:2. Done? True\n",
      "Episode: 999, Total reward: 4.0, eps: 4.317124741065784e-05\n",
      "---------------------------------------------------------------------\n",
      "<SARSA table>\n",
      " [[5.73958225e-05 4.15122495e-05 7.19714329e-05 4.73513648e-05]\n",
      " [5.35622911e-05 7.42169489e-05 7.31219995e-05 7.31178370e-05]\n",
      " [7.43081271e-05 3.69992296e-05 1.49089330e-05 8.82296675e-06]\n",
      " [9.33140976e-05 9.33499702e-05 6.26955125e-05 4.06926195e-05]\n",
      " [5.98733605e-05 7.75799980e-05 7.46553294e-05 6.28469851e-05]\n",
      " [7.17901242e-05 4.91919093e-05 7.65169270e-05 3.98873360e-05]\n",
      " [2.40631363e-05 1.27293482e-05 9.12048003e-05 8.71494047e-05]\n",
      " [9.01111528e-05 6.61716956e-05 1.44486585e-05 2.14635580e-05]\n",
      " [1.22380949e-05 9.11451934e-05 1.21498944e-05 1.31297842e-05]\n",
      " [3.26777147e-05 8.75380235e-05 8.79034156e-06 7.43527467e-05]\n",
      " [9.31171371e-05 4.10898925e-05 4.71742224e-06 5.16414550e-05]\n",
      " [6.51605191e-05 7.34293728e-06 8.89673462e-05 7.80293435e-05]\n",
      " [2.04249425e-05 8.70220657e-05 2.11084054e-05 4.58650985e-05]\n",
      " [8.26640844e-05 7.62664223e-06 5.93548951e-04 8.66377729e-05]\n",
      " [7.28882400e-06 7.77002206e-05 3.94672804e-02 6.67368504e-05]\n",
      " [2.46665314e-05 5.13241375e-05 2.89914103e-05 9.38323818e-05]]\n",
      "---------------------------------------------------------------------\n",
      "  (Down)\n",
      "SFFF\n",
      "F\u001b[41mH\u001b[0mFH\n",
      "FFFH\n",
      "HFFG\n"
     ]
    }
   ],
   "source": [
    "# Generate an agent that follows SARSA-Learning algorithm.\n",
    "SARSA_agent = SARSA_Agent(env)\n",
    "total_reward = 0\n",
    "total_reward_list = list()\n",
    "episodes = 1000\n",
    "\n",
    "for episode in range(episodes):\n",
    "    \n",
    "    total_reward_list.append(total_reward)\n",
    "    state = env.reset() # reset the environment when the episode terminates\n",
    "    \n",
    "    print(f\"Entering Episode {episode}\")\n",
    "    print(f\"Total Reward is {total_reward}\")\n",
    "#     time.sleep(0.25)\n",
    "    \n",
    "    done = False\n",
    "    \n",
    "    SARSA_action = SARSA_agent.get_action(state)\n",
    "    \n",
    "    while not done:\n",
    "\n",
    "        next_state, reward, done, info = env.step(SARSA_action)\n",
    "        \n",
    "        SARSA_next_action = SARSA_agent.get_action(next_state)\n",
    "        \n",
    "        # save the agent's experience as a tuple\n",
    "        experience = (state, SARSA_action, reward, next_state, SARSA_next_action, done)\n",
    "        print(f\"S:{state} -> A:{SARSA_action} -> R:{reward} -> S:{next_state} -> A:{SARSA_next_action}. Done? {done}\")\n",
    "\n",
    "        # train my SARSA_agent\n",
    "        SARSA_agent.train(experience)\n",
    "        \n",
    "        # The agent moves to the next state\n",
    "        state = next_state\n",
    "        \n",
    "        SARSA_action = SARSA_next_action\n",
    "        \n",
    "        # accumulate reward\n",
    "        total_reward = total_reward + reward\n",
    "        \n",
    "        print(f\"Episode: {episode}, Total reward: {total_reward}, eps: {SARSA_agent.eps}\")\n",
    "        print(\"---------------------------------------------------------------------\")\n",
    "        print(f\"<SARSA table>\\n\", SARSA_agent.SARSA_table)\n",
    "        print(\"---------------------------------------------------------------------\")\n",
    "        \n",
    "        env.render()\n",
    "        clear_output(wait=True)\n",
    "        \n",
    "#         time.sleep(0.25)"
   ]
  },
  {
   "cell_type": "code",
   "execution_count": 8,
   "id": "47975cfe",
   "metadata": {},
   "outputs": [],
   "source": [
    "def analysis_tool(episode_length, total_reward):\n",
    "    fig, ax = plt.subplots()\n",
    "    x = np.linspace(0, episode_length, num=episode_length)\n",
    "    y = total_reward \n",
    "    \n",
    "    ax.plot(x, y)\n",
    "    ax.set_xlabel('Episode')\n",
    "    ax.set_ylabel('Total Reward')\n",
    "    \n",
    "    ax.set_ylim(0, episode_length)\n",
    "    ax.set_title('Accumulated Total Rewards')\n",
    "    ax.grid()"
   ]
  },
  {
   "cell_type": "code",
   "execution_count": 9,
   "id": "e7734f12",
   "metadata": {},
   "outputs": [
    {
     "data": {
      "image/png": "[encoded data removed]",
      "text/plain": [
       "<Figure size 432x288 with 1 Axes>"
      ]
     },
     "metadata": {
      "needs_background": "light"
     },
     "output_type": "display_data"
    }
   ],
   "source": [
    "analysis_tool(episodes, total_reward_list)"
   ]
  },
  {
   "cell_type": "code",
   "execution_count": null,
   "id": "948b648d",
   "metadata": {},
   "outputs": [],
   "source": []
  },
  {
   "cell_type": "code",
   "execution_count": null,
   "id": "df32edee",
   "metadata": {},
   "outputs": [],
   "source": []
  },
  {
   "cell_type": "code",
   "execution_count": null,
   "id": "4fb9afe9",
   "metadata": {},
   "outputs": [],
   "source": []
  },
  {
   "cell_type": "code",
   "execution_count": null,
   "id": "98a44052",
   "metadata": {},
   "outputs": [],
   "source": []
  },
  {
   "cell_type": "code",
   "execution_count": null,
   "id": "8ca08579",
   "metadata": {},
   "outputs": [],
   "source": []
  },
  {
   "cell_type": "code",
   "execution_count": null,
   "id": "70103b12",
   "metadata": {},
   "outputs": [],
   "source": []
  },
  {
   "cell_type": "code",
   "execution_count": null,
   "id": "e73548b1",
   "metadata": {},
   "outputs": [],
   "source": []
  }
 ],
 "metadata": {
  "kernelspec": {
   "display_name": "Python 3 (ipykernel)",
   "language": "python",
   "name": "python3"
  },
  "language_info": {
   "codemirror_mode": {
    "name": "ipython",
    "version": 3
   },
   "file_extension": ".py",
   "mimetype": "text/x-python",
   "name": "python",
   "nbconvert_exporter": "python",
   "pygments_lexer": "ipython3",
   "version": "3.9.7"
  }
 },
 "nbformat": 4,
 "nbformat_minor": 5
}
