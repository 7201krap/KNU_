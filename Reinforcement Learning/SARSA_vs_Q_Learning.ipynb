{
  "nbformat": 4,
  "nbformat_minor": 0,
  "metadata": {
    "colab": {
      "name": "SARSA vs Q-Learning.ipynb",
      "provenance": [],
      "collapsed_sections": []
    },
    "kernelspec": {
      "name": "python3",
      "display_name": "Python 3"
    },
    "language_info": {
      "name": "python"
    }
  },
  "cells": [
    {
      "cell_type": "code",
      "source": [
        "# https://stackoverflow.com/questions/6848828/what-is-the-difference-between-q-learning-and-sarsa\n",
        "# https://www.youtube.com/watch?v=FIePFdm2piI "
      ],
      "metadata": {
        "id": "Lq9EZkdNEshR"
      },
      "execution_count": 1,
      "outputs": []
    },
    {
      "cell_type": "code",
      "execution_count": 2,
      "metadata": {
        "id": "8SjXUQZ80aLc"
      },
      "outputs": [],
      "source": [
        "import numpy as np \n",
        "from collections import defaultdict "
      ]
    },
    {
      "cell_type": "code",
      "source": [
        "EPSILON_START = 0.1\n",
        "EPSILON_END   = 0\n",
        "EPSILON_DECAY = 40000\n",
        "\n",
        "gamma = 0.9     # discount factor\n",
        "alpha = 0.1     # learning rate\n",
        "\n",
        "# EPSILON = 0.1 이면 SARSA는 빙 둘러서 가게 된다."
      ],
      "metadata": {
        "id": "zs-WdoECKmZu"
      },
      "execution_count": 3,
      "outputs": []
    },
    {
      "cell_type": "code",
      "source": [
        "import numpy as np\n",
        "from collections import defaultdict\n",
        "\n",
        "# define state\n",
        "starting_pos = (3,0)\n",
        "state = defaultdict(lambda : 0)\n",
        "\n",
        "for i in range(4):\n",
        "    for j in range(12):\n",
        "        if i == 3 and j >= 1 and j < 11:\n",
        "            state[(i,j)] = -1\n",
        "        elif i == 3 and j == 11:\n",
        "            state[(i,j)] = 1\n",
        "        else:\n",
        "            state[(i,j)] = 0\n",
        "\n",
        "# define action \n",
        "actions = [\"up\", \"down\", \"left\", \"right\"]"
      ],
      "metadata": {
        "id": "rJviYeRjIYL-"
      },
      "execution_count": 4,
      "outputs": []
    },
    {
      "cell_type": "code",
      "source": [
        "# Visualise Current State Board\n",
        "\n",
        "visualization = np.array(list(state.items()))\n",
        "\n",
        "visualization = np.reshape(visualization, (4, 24))\n",
        "\n",
        "BOARD = np.zeros((4, 12))\n",
        "\n",
        "print(\"================== CURRENT BOARD ==================\")\n",
        "for i in range(4):\n",
        "    for j in range(12):\n",
        "        if visualization[i][2*j + 1] == 0:\n",
        "            BOARD[i][j] = 0\n",
        "        elif visualization[i][2*j + 1] == 1:\n",
        "            BOARD[i][j] = 1\n",
        "        else:\n",
        "            BOARD[i][j] = -1\n",
        "\n",
        "print(BOARD)"
      ],
      "metadata": {
        "colab": {
          "base_uri": "https://localhost:8080/"
        },
        "id": "uBPyeVNILg0a",
        "outputId": "e0335d7a-b867-4da2-9b62-233e01b17065"
      },
      "execution_count": 5,
      "outputs": [
        {
          "output_type": "stream",
          "name": "stdout",
          "text": [
            "================== CURRENT BOARD ==================\n",
            "[[ 0.  0.  0.  0.  0.  0.  0.  0.  0.  0.  0.  0.]\n",
            " [ 0.  0.  0.  0.  0.  0.  0.  0.  0.  0.  0.  0.]\n",
            " [ 0.  0.  0.  0.  0.  0.  0.  0.  0.  0.  0.  0.]\n",
            " [ 0. -1. -1. -1. -1. -1. -1. -1. -1. -1. -1.  1.]]\n"
          ]
        },
        {
          "output_type": "stream",
          "name": "stderr",
          "text": [
            "/usr/local/lib/python3.7/dist-packages/ipykernel_launcher.py:3: VisibleDeprecationWarning: Creating an ndarray from ragged nested sequences (which is a list-or-tuple of lists-or-tuples-or ndarrays with different lengths or shapes) is deprecated. If you meant to do this, you must specify 'dtype=object' when creating the ndarray.\n",
            "  This is separate from the ipykernel package so we can avoid doing imports until\n"
          ]
        }
      ]
    },
    {
      "cell_type": "code",
      "source": [
        "def NextState(current_pos, action):\n",
        "    origin = current_pos\n",
        "    nxt_state_row = current_pos[0]\n",
        "    nxt_state_col = current_pos[1]\n",
        "    if action == 'up':\n",
        "        nxt_state_row -= 1\n",
        "    elif action == 'down':\n",
        "        nxt_state_row += 1\n",
        "    elif action == 'left':\n",
        "        nxt_state_col -= 1\n",
        "    elif action == 'right':\n",
        "        nxt_state_col += 1\n",
        "    if nxt_state_row >= 0 and nxt_state_row <= 3:\n",
        "        if nxt_state_col >= 0 and nxt_state_col <= 11:\n",
        "            return (nxt_state_row, nxt_state_col)\n",
        "        else:\n",
        "            return origin\n",
        "    else:\n",
        "        return origin\n",
        "\n",
        "# reward function\n",
        "def reward(pos):\n",
        "    if state[pos] == -1:\n",
        "        return -100\n",
        "    elif state[pos] == 1:\n",
        "        return 1\n",
        "    else:\n",
        "        return -1"
      ],
      "metadata": {
        "id": "-3SEFICqIYSN"
      },
      "execution_count": 6,
      "outputs": []
    },
    {
      "cell_type": "code",
      "source": [
        "Q_table_SARSA = defaultdict(lambda : 0)\n",
        "pi_table_SARSA = defaultdict(lambda : 0)\n",
        "Q_table_Q_learning = defaultdict(lambda : 0)\n",
        "pi_table_Q_learning = defaultdict(lambda : 0)\n",
        "\n",
        "reward_sum_list_SARSA = []\n",
        "reward_sum_list_Q_learning = []"
      ],
      "metadata": {
        "id": "ufRMkpdtIYUO"
      },
      "execution_count": 7,
      "outputs": []
    },
    {
      "cell_type": "code",
      "source": [
        "# choose action on epsilon-greedy-policy\n",
        "def ChooseAction(current_pos, Q_table, epsilon):\n",
        "    if np.random.uniform(0,1) <= epsilon:\n",
        "        return np.random.choice(actions)\n",
        "    else:\n",
        "        Q_up = Q_table[(current_pos,'up')]\n",
        "        Q_down = Q_table[(current_pos,'down')]\n",
        "        Q_left = Q_table[(current_pos,'left')]\n",
        "        Q_right = Q_table[(current_pos,'right')]\n",
        "        QList = [Q_up, Q_down, Q_left, Q_right]\n",
        "        \n",
        "        return actions[np.argmax(QList)] "
      ],
      "metadata": {
        "id": "4UHpbIKeIYWS"
      },
      "execution_count": 8,
      "outputs": []
    },
    {
      "cell_type": "code",
      "source": [
        "# SARSA control\n",
        "def play_episode_SARSA(starting_pos, actions, epsil):\n",
        "    episode = []\n",
        "    rewardList_SARSA = []\n",
        "    current_state = starting_pos\n",
        "    while True:\n",
        "\n",
        "        if state[current_state] == -1:\n",
        "            episode.append(current_state)\n",
        "            break\n",
        "\n",
        "        action = ChooseAction(current_state, Q_table_SARSA, epsil)\n",
        "        next_state = NextState(current_state, action)\n",
        "        r = reward(next_state)\n",
        "\n",
        "        rewardList_SARSA.append(r) # for making episode-reward graph\n",
        "        episode.append([current_state, action, r])\n",
        "        next_action = ChooseAction(next_state, Q_table_SARSA, epsil)\n",
        "\n",
        "        Q_table_SARSA[current_state, action] = (1 - alpha) * Q_table_SARSA[current_state, action] + alpha * (r + gamma * Q_table_SARSA[next_state, next_action])\n",
        "\n",
        "        current_state = next_state\n",
        "        action = next_action\n",
        "\n",
        "        if current_state == (3,11):\n",
        "            episode.append(current_state)\n",
        "            break\n",
        "\n",
        "    reward_sum_list_SARSA.append(sum(rewardList_SARSA))"
      ],
      "metadata": {
        "id": "ZKmVyZVVIYYP"
      },
      "execution_count": 9,
      "outputs": []
    },
    {
      "cell_type": "code",
      "source": [
        "# Q-learning control\n",
        "def play_episode_Qlearning(starting_pos, actions, epsil):\n",
        "    episode = []\n",
        "    rewardList_Q_learning = []\n",
        "    current_state = starting_pos\n",
        "    while True:\n",
        "\n",
        "        if state[current_state] == -1:\n",
        "            episode.append(current_state)\n",
        "            break\n",
        "\n",
        "        action = ChooseAction(current_state, Q_table_Q_learning, epsil)\n",
        "        next_state = NextState(current_state, action)\n",
        "        r = reward(next_state)\n",
        "\n",
        "        rewardList_Q_learning.append(r) # for making episode-reward graph\n",
        "        episode.append([current_state, action, r])\n",
        "        optimal_action = ChooseAction(next_state, Q_table_Q_learning, 0)\n",
        "\n",
        "        Q_table_Q_learning[current_state, action] = (1 - alpha) * Q_table_Q_learning[current_state, action] + alpha * (r + gamma*Q_table_Q_learning[next_state, optimal_action])\n",
        "\n",
        "        current_state = next_state\n",
        "\n",
        "        if current_state == (3,11):\n",
        "            episode.append(current_state)\n",
        "            break\n",
        "    #print(episode)\n",
        "    reward_sum_list_Q_learning.append(sum(rewardList_Q_learning))"
      ],
      "metadata": {
        "id": "KRXE-vBpIYaK"
      },
      "execution_count": 10,
      "outputs": []
    },
    {
      "cell_type": "code",
      "source": [
        "# play episode on SARSA control\n",
        "count = 50000\n",
        "\n",
        "for i in range(count):\n",
        "\n",
        "    epsilon = np.interp(i, [0, EPSILON_DECAY], [EPSILON_START, EPSILON_END])\n",
        "\n",
        "    play_episode_SARSA(starting_pos, actions, epsilon)"
      ],
      "metadata": {
        "id": "AVtEs2bdIYcI"
      },
      "execution_count": 11,
      "outputs": []
    },
    {
      "cell_type": "code",
      "source": [
        "# play episode on Q-learning control\n",
        "for i in range(count):\n",
        "\n",
        "    epsilon = np.interp(i, [0, EPSILON_DECAY], [EPSILON_START, EPSILON_END])\n",
        "\n",
        "    play_episode_Qlearning(starting_pos, actions, epsilon)"
      ],
      "metadata": {
        "id": "noLV5_yDIYeG"
      },
      "execution_count": 12,
      "outputs": []
    },
    {
      "cell_type": "code",
      "source": [
        "# pi_table_SARSA update \n",
        "for i in range(4):\n",
        "    for j in range(12):\n",
        "        Q_up = Q_table_SARSA[((i,j),'up')]\n",
        "        Q_down = Q_table_SARSA[((i,j),'down')]\n",
        "        Q_left = Q_table_SARSA[((i,j),'left')]\n",
        "        Q_right = Q_table_SARSA[((i,j),'right')]\n",
        "\n",
        "        QList = [Q_up,Q_down,Q_left,Q_right]\n",
        "        pi_table_SARSA[(i,j)] = actions[np.argmax(QList)] \n",
        "\n",
        "\n",
        "# pi_table_Qlearning update \n",
        "for i in range(4):\n",
        "    for j in range(12):\n",
        "        Q_up = Q_table_Q_learning[((i,j),'up')]\n",
        "        Q_down = Q_table_Q_learning[((i,j),'down')]\n",
        "        Q_left = Q_table_Q_learning[((i,j),'left')]\n",
        "        Q_right = Q_table_Q_learning[((i,j),'right')]\n",
        "        QList = [Q_up,Q_down,Q_left,Q_right]\n",
        "\n",
        "        pi_table_Q_learning[(i,j)] = actions[np.argmax(QList)] "
      ],
      "metadata": {
        "id": "G1cHQZS7IYf2"
      },
      "execution_count": 13,
      "outputs": []
    },
    {
      "cell_type": "code",
      "source": [
        "Q_table_SARSA"
      ],
      "metadata": {
        "id": "7VNr1Dl4k6nH"
      },
      "execution_count": null,
      "outputs": []
    },
    {
      "cell_type": "code",
      "source": [
        "Q_table_Q_learning"
      ],
      "metadata": {
        "id": "OzSwKgNqk5y-"
      },
      "execution_count": null,
      "outputs": []
    },
    {
      "cell_type": "code",
      "source": [
        "# SARSA\n",
        "\n",
        "for i in range(4):\n",
        "    print('-------------------------------------------------------------')\n",
        "    out = '| '\n",
        "    for j in range(12):\n",
        "        if pi_table_SARSA[(i,j)] == 'up':\n",
        "            token = '↑'\n",
        "        if pi_table_SARSA[(i,j)] == 'down':\n",
        "            token = '↓'\n",
        "        if pi_table_SARSA[(i,j)] == 'right':\n",
        "            token = '→'\n",
        "        if pi_table_SARSA[(i,j)] == 'left':\n",
        "            token = '←'\n",
        "        if state[(i,j)] == -1:\n",
        "            token = '**'\n",
        "        if (i, j) == (3,11):\n",
        "            token = ' G'\n",
        "        if (i, j) == (3, 0):\n",
        "            token = 'S '\n",
        "        out += token + ' | '\n",
        "    print(out)\n",
        "print('-------------------------------------------------------------')"
      ],
      "metadata": {
        "colab": {
          "base_uri": "https://localhost:8080/"
        },
        "id": "T1sNvZcrIYiD",
        "outputId": "f3e1e4ef-5b5e-45e0-8fe4-0c605b393621"
      },
      "execution_count": 16,
      "outputs": [
        {
          "output_type": "stream",
          "name": "stdout",
          "text": [
            "-------------------------------------------------------------\n",
            "| → | → | → | → | → | → | → | → | → | → | → | ↓ | \n",
            "-------------------------------------------------------------\n",
            "| ↑ | ↑ | → | → | → | → | → | → | → | → | → | ↓ | \n",
            "-------------------------------------------------------------\n",
            "| ↑ | ↑ | ↑ | ↑ | ↑ | ↑ | → | ↑ | ↑ | ↑ | → | ↓ | \n",
            "-------------------------------------------------------------\n",
            "| S  | ** | ** | ** | ** | ** | ** | ** | ** | ** | ** |  G | \n",
            "-------------------------------------------------------------\n"
          ]
        }
      ]
    },
    {
      "cell_type": "code",
      "source": [
        "# Q-Learning\n",
        "\n",
        "for i in range(4):\n",
        "    print('-------------------------------------------------------------')\n",
        "    out = '| '\n",
        "    for j in range(12):\n",
        "        if pi_table_Q_learning[(i,j)] == 'up':\n",
        "            token = '↑'\n",
        "        if pi_table_Q_learning[(i,j)] == 'down':\n",
        "            token = '↓'\n",
        "        if pi_table_Q_learning[(i,j)] == 'right':\n",
        "            token = '→'\n",
        "        if pi_table_Q_learning[(i,j)] == 'left':\n",
        "            token = '←'\n",
        "        if state[(i,j)] == -1:\n",
        "            token = '**'\n",
        "        if (i, j) == (3,11):\n",
        "            token = ' G'\n",
        "        if (i, j) == (3, 0):\n",
        "            token = 'S '\n",
        "        out += token + ' | '\n",
        "    print(out)\n",
        "print('-------------------------------------------------------------')"
      ],
      "metadata": {
        "colab": {
          "base_uri": "https://localhost:8080/"
        },
        "id": "euMH9MISIYme",
        "outputId": "9607da83-899f-42ac-94ad-d2ad85abcedc"
      },
      "execution_count": 17,
      "outputs": [
        {
          "output_type": "stream",
          "name": "stdout",
          "text": [
            "-------------------------------------------------------------\n",
            "| ↓ | → | → | → | → | ↑ | → | → | → | → | ↓ | ↓ | \n",
            "-------------------------------------------------------------\n",
            "| → | → | → | → | → | → | → | → | → | → | ↓ | ↓ | \n",
            "-------------------------------------------------------------\n",
            "| → | → | → | → | → | → | → | → | → | → | → | ↓ | \n",
            "-------------------------------------------------------------\n",
            "| S  | ** | ** | ** | ** | ** | ** | ** | ** | ** | ** |  G | \n",
            "-------------------------------------------------------------\n"
          ]
        }
      ]
    },
    {
      "cell_type": "code",
      "source": [
        "import matplotlib.pyplot as plt\n",
        "\n",
        "episode_count = []\n",
        "\n",
        "for i in range(count):\n",
        "    episode_count.append(i+1)\n",
        "\n",
        "fig, (ax1, ax2) = plt.subplots(2, 1, figsize=(30, 16))\n",
        "\n",
        "ax1.plot(episode_count,reward_sum_list_SARSA, c='darkred', label='SARSA')\n",
        "ax1.set_title(\"SARSA\")\n",
        "ax1.set_xlabel(\"Episodes\")\n",
        "ax1.set_ylabel(\"Reward\")\n",
        "ax1.set_ylim([-300, 100])\n",
        "ax1.set_xlim(0,50000)\n",
        "ax1.legend()\n",
        "\n",
        "ax2.plot(episode_count,reward_sum_list_Q_learning, c='darkgreen', label='Q-learning')\n",
        "ax2.set_title(\"Q-learning\")\n",
        "ax2.set_xlabel(\"Episodes\")\n",
        "ax2.set_ylabel(\"Reward\")\n",
        "ax2.set_ylim([-300, 100])\n",
        "ax2.set_xlim(0,50000)\n",
        "ax2.legend()"
      ],
      "metadata": {
        "colab": {
          "base_uri": "https://localhost:8080/",
          "height": 786
        },
        "id": "J91OS-aFIYod",
        "outputId": "54f46a80-f513-46b8-8c35-1f0e9792a9bb"
      },
      "execution_count": 18,
      "outputs": [
        {
          "output_type": "execute_result",
          "data": {
            "text/plain": [
              "<matplotlib.legend.Legend at 0x7f24e3dbf710>"
            ]
          },
          "metadata": {},
          "execution_count": 18
        },
        {
          "output_type": "display_data",
          "data": {
            "text/plain": [
              "<Figure size 2160x1152 with 2 Axes>"
            ],
            "image/png": "[encoded data removed]"
          },
          "metadata": {
            "needs_background": "light"
          }
        }
      ]
    }
  ]
}